{
  "nbformat": 4,
  "nbformat_minor": 0,
  "metadata": {
    "colab": {
      "provenance": [],
      "include_colab_link": true
    },
    "kernelspec": {
      "name": "python3",
      "display_name": "Python 3"
    },
    "language_info": {
      "name": "python"
    }
  },
  "cells": [
    {
      "cell_type": "markdown",
      "metadata": {
        "id": "view-in-github",
        "colab_type": "text"
      },
      "source": [
        "<a href=\"https://colab.research.google.com/github/blip-cmd/llm/blob/main/1_0_LLM_API_For_Summarization.ipynb\" target=\"_parent\"><img src=\"https://colab.research.google.com/assets/colab-badge.svg\" alt=\"Open In Colab\"/></a>"
      ]
    },
    {
      "cell_type": "code",
      "execution_count": null,
      "metadata": {
        "id": "MfVbXVciXKKo",
        "colab": {
          "base_uri": "https://localhost:8080/"
        },
        "outputId": "7439c9fb-ce3d-4b4d-efc7-c630663a66a9",
        "collapsed": true
      },
      "outputs": [
        {
          "output_type": "stream",
          "name": "stdout",
          "text": [
            "Requirement already satisfied: google-generativeai in /usr/local/lib/python3.10/dist-packages (0.7.2)\n",
            "Requirement already satisfied: google-ai-generativelanguage==0.6.6 in /usr/local/lib/python3.10/dist-packages (from google-generativeai) (0.6.6)\n",
            "Requirement already satisfied: google-api-core in /usr/local/lib/python3.10/dist-packages (from google-generativeai) (2.19.2)\n",
            "Requirement already satisfied: google-api-python-client in /usr/local/lib/python3.10/dist-packages (from google-generativeai) (2.137.0)\n",
            "Requirement already satisfied: google-auth>=2.15.0 in /usr/local/lib/python3.10/dist-packages (from google-generativeai) (2.27.0)\n",
            "Requirement already satisfied: protobuf in /usr/local/lib/python3.10/dist-packages (from google-generativeai) (3.20.3)\n",
            "Requirement already satisfied: pydantic in /usr/local/lib/python3.10/dist-packages (from google-generativeai) (2.9.2)\n",
            "Requirement already satisfied: tqdm in /usr/local/lib/python3.10/dist-packages (from google-generativeai) (4.66.5)\n",
            "Requirement already satisfied: typing-extensions in /usr/local/lib/python3.10/dist-packages (from google-generativeai) (4.12.2)\n",
            "Requirement already satisfied: proto-plus<2.0.0dev,>=1.22.3 in /usr/local/lib/python3.10/dist-packages (from google-ai-generativelanguage==0.6.6->google-generativeai) (1.24.0)\n",
            "Requirement already satisfied: googleapis-common-protos<2.0.dev0,>=1.56.2 in /usr/local/lib/python3.10/dist-packages (from google-api-core->google-generativeai) (1.65.0)\n",
            "Requirement already satisfied: requests<3.0.0.dev0,>=2.18.0 in /usr/local/lib/python3.10/dist-packages (from google-api-core->google-generativeai) (2.32.3)\n",
            "Requirement already satisfied: cachetools<6.0,>=2.0.0 in /usr/local/lib/python3.10/dist-packages (from google-auth>=2.15.0->google-generativeai) (5.5.0)\n",
            "Requirement already satisfied: pyasn1-modules>=0.2.1 in /usr/local/lib/python3.10/dist-packages (from google-auth>=2.15.0->google-generativeai) (0.4.1)\n",
            "Requirement already satisfied: rsa<5,>=3.1.4 in /usr/local/lib/python3.10/dist-packages (from google-auth>=2.15.0->google-generativeai) (4.9)\n",
            "Requirement already satisfied: httplib2<1.dev0,>=0.19.0 in /usr/local/lib/python3.10/dist-packages (from google-api-python-client->google-generativeai) (0.22.0)\n",
            "Requirement already satisfied: google-auth-httplib2<1.0.0,>=0.2.0 in /usr/local/lib/python3.10/dist-packages (from google-api-python-client->google-generativeai) (0.2.0)\n",
            "Requirement already satisfied: uritemplate<5,>=3.0.1 in /usr/local/lib/python3.10/dist-packages (from google-api-python-client->google-generativeai) (4.1.1)\n",
            "Requirement already satisfied: annotated-types>=0.6.0 in /usr/local/lib/python3.10/dist-packages (from pydantic->google-generativeai) (0.7.0)\n",
            "Requirement already satisfied: pydantic-core==2.23.4 in /usr/local/lib/python3.10/dist-packages (from pydantic->google-generativeai) (2.23.4)\n",
            "Requirement already satisfied: grpcio<2.0dev,>=1.33.2 in /usr/local/lib/python3.10/dist-packages (from google-api-core[grpc]!=2.0.*,!=2.1.*,!=2.10.*,!=2.2.*,!=2.3.*,!=2.4.*,!=2.5.*,!=2.6.*,!=2.7.*,!=2.8.*,!=2.9.*,<3.0.0dev,>=1.34.1->google-ai-generativelanguage==0.6.6->google-generativeai) (1.64.1)\n",
            "Requirement already satisfied: grpcio-status<2.0.dev0,>=1.33.2 in /usr/local/lib/python3.10/dist-packages (from google-api-core[grpc]!=2.0.*,!=2.1.*,!=2.10.*,!=2.2.*,!=2.3.*,!=2.4.*,!=2.5.*,!=2.6.*,!=2.7.*,!=2.8.*,!=2.9.*,<3.0.0dev,>=1.34.1->google-ai-generativelanguage==0.6.6->google-generativeai) (1.48.2)\n",
            "Requirement already satisfied: pyparsing!=3.0.0,!=3.0.1,!=3.0.2,!=3.0.3,<4,>=2.4.2 in /usr/local/lib/python3.10/dist-packages (from httplib2<1.dev0,>=0.19.0->google-api-python-client->google-generativeai) (3.1.4)\n",
            "Requirement already satisfied: pyasn1<0.7.0,>=0.4.6 in /usr/local/lib/python3.10/dist-packages (from pyasn1-modules>=0.2.1->google-auth>=2.15.0->google-generativeai) (0.6.1)\n",
            "Requirement already satisfied: charset-normalizer<4,>=2 in /usr/local/lib/python3.10/dist-packages (from requests<3.0.0.dev0,>=2.18.0->google-api-core->google-generativeai) (3.4.0)\n",
            "Requirement already satisfied: idna<4,>=2.5 in /usr/local/lib/python3.10/dist-packages (from requests<3.0.0.dev0,>=2.18.0->google-api-core->google-generativeai) (3.10)\n",
            "Requirement already satisfied: urllib3<3,>=1.21.1 in /usr/local/lib/python3.10/dist-packages (from requests<3.0.0.dev0,>=2.18.0->google-api-core->google-generativeai) (2.2.3)\n",
            "Requirement already satisfied: certifi>=2017.4.17 in /usr/local/lib/python3.10/dist-packages (from requests<3.0.0.dev0,>=2.18.0->google-api-core->google-generativeai) (2024.8.30)\n"
          ]
        }
      ],
      "source": [
        "# LLM\n",
        "# using google gemini\n",
        "\n",
        "# https://ai.google.dev/gemini-api/docs/available-regions#unpaid-tier-unavailable\n",
        "\n",
        "# https://aistudio.google.com/app/apikey\n",
        "\n",
        "# Install the required library\n",
        "!pip install google-generativeai"
      ]
    },
    {
      "cell_type": "code",
      "source": [
        "# Import the library\n",
        "import google.generativeai as genai\n",
        "# Replace with your API key (get it from https://developers.google.com/focus/ai-development)\n",
        "your_api_key = \"\"\n",
        "\n",
        "# Configure the API key\n",
        "genai.configure(api_key=your_api_key)\n",
        "# Specify the model to use (options: \"gemini-pro\" or \"gemini-pro-vision\")\n",
        "model_name = \"gemini-pro\"\n",
        "# Create a generative model object\n",
        "model = genai.GenerativeModel(model_name)\n"
      ],
      "metadata": {
        "id": "enpCebmaYdeV"
      },
      "execution_count": 9,
      "outputs": []
    },
    {
      "cell_type": "code",
      "source": [
        "import os\n",
        "\n",
        "folder_path = \"/content/articles\"\n",
        "\n",
        "articles = {}\n",
        "\n",
        "for i,filename in enumerate(os.listdir(folder_path),1):\n",
        "    if filename.endswith(\".txt\"):\n",
        "        file_path = os.path.join(folder_path, filename)\n",
        "\n",
        "        with open(file_path, 'r') as file:\n",
        "            content = file.read()\n",
        "\n",
        "            articles[i] = [content]\n",
        "\n",
        "for value in articles.values():\n",
        "    print(len(value))\n"
      ],
      "metadata": {
        "colab": {
          "base_uri": "https://localhost:8080/"
        },
        "id": "cU8_jTif5ES-",
        "outputId": "863d161e-9c8c-4824-bc7e-06a3fd1f0fac"
      },
      "execution_count": 18,
      "outputs": [
        {
          "output_type": "stream",
          "name": "stdout",
          "text": [
            "1\n",
            "1\n"
          ]
        }
      ]
    },
    {
      "cell_type": "code",
      "source": [
        "import pprint\n",
        "import json\n",
        "\n",
        "persona = \"\"\"You're the best english student, not because of many uncommon vocabulary\n",
        " you speak fluently with but rather how simple your summaries and reports are and understable to all. you were born in Ghana and have that ascent as well. \"\"\"\n",
        "\n",
        "\n",
        "for article_id, article_content_list in articles.items():\n",
        "\n",
        "    article_text = article_content_list[0]\n",
        "\n",
        "    prompt = f\"\"\"As the {persona} above, write a summary in 100 words of this article: {article_text}\"\"\"\n",
        "\n",
        "    response = model.generate_content(prompt)\n",
        "\n",
        "    articles[article_id].append(response.text)\n",
        "\n",
        "for value in articles.values():\n",
        "    print(len(value))"
      ],
      "metadata": {
        "id": "Gu1684irllb-",
        "colab": {
          "base_uri": "https://localhost:8080/",
          "height": 53
        },
        "outputId": "c66f7f88-01b2-4ff4-82e2-5f8e91888c90"
      },
      "execution_count": 19,
      "outputs": [
        {
          "output_type": "stream",
          "name": "stdout",
          "text": [
            "2\n",
            "2\n"
          ]
        }
      ]
    },
    {
      "cell_type": "code",
      "source": [
        "summaries = {key: value[1] for key, value in articles.items() if len(value) > 1}\n",
        "\n",
        "summaries_json = json.dumps(summaries,indent=2)\n",
        "\n",
        "pprint.pprint(summaries_json, width=120)\n",
        "\n",
        "with open('summaries.json', 'w') as f:\n",
        "    f.write(summaries_json)"
      ],
      "metadata": {
        "colab": {
          "base_uri": "https://localhost:8080/"
        },
        "id": "ooGTq8LT_TN4",
        "outputId": "a57905f6-aa5a-41d0-daa6-0c3b5342212f"
      },
      "execution_count": 31,
      "outputs": [
        {
          "output_type": "stream",
          "name": "stdout",
          "text": [
            "('{\\n'\n",
            " '  \"1\": \"In September, the ML and AI community delved into a range of topics, showcasing exciting innovations and '\n",
            " 'tools. Some of the highlighted articles included:\\\\n\\\\n- Graph RAG for semantic search and recommendations\\\\n- '\n",
            " 'Essential Python functions for data scientists\\\\n- Automating prompt engineering for LLMs\\\\n- Creating custom AI '\n",
            " 'agents with GenAI\\\\n- Navigating LLM agent frameworks\\\\n- Exploring alternative visualization types\\\\n- Enhancing '\n",
            " 'resumes for FAANG applications\\\\n- Welcoming new TDS authors sharing their unique perspectives.\",\\n'\n",
            " '  \"2\": \"Aspiring data scientists face an evolving job market with shifting skills requirements. To succeed, '\n",
            " \"candidates should:\\\\n\\\\n* Read industry articles and learn from professionals' insights.\\\\n* Develop a strong \"\n",
            " 'foundation in essential mathematics for data analysis.\\\\n* Explore freelancing opportunities to gain experience and '\n",
            " 'build a network.\\\\n* Consider transitioning to data science in 2024 despite market challenges.\\\\n* Stay updated on '\n",
            " 'advancements in AI, machine learning, and dataflow architecture.\"\\n'\n",
            " '}')\n"
          ]
        }
      ]
    }
  ]
}